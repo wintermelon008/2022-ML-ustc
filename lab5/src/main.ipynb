{
 "cells": [
  {
   "cell_type": "code",
   "execution_count": 1,
   "metadata": {},
   "outputs": [],
   "source": [
    "import pandas as pd\n",
    "import numpy as np\n",
    "import random as rd \n",
    "import pickle as pk\n",
    "import matplotlib.pyplot as plt\n",
    "\n",
    "from Judge.Score import *   # 评价指标"
   ]
  },
  {
   "cell_type": "code",
   "execution_count": 2,
   "metadata": {},
   "outputs": [],
   "source": [
    "df_ft = pd.read_csv('./Datasets/train_feature.csv')\n",
    "df_lb = pd.read_csv('./Datasets/train_label.csv') \n",
    "ori_df = pd.concat([df_ft, df_lb], axis=1)\n"
   ]
  },
  {
   "attachments": {},
   "cell_type": "markdown",
   "metadata": {},
   "source": [
    "## 数据预处理\n",
    "首先进行数据的预处理。"
   ]
  },
  {
   "cell_type": "code",
   "execution_count": 3,
   "metadata": {},
   "outputs": [
    {
     "name": "stdout",
     "output_type": "stream",
     "text": [
      "(10000, 13)\n"
     ]
    }
   ],
   "source": [
    "from Preprocessing import Tools as M_TOOL\n",
    "\n",
    "def Preprocess(df: pd.DataFrame, method='method 1'):\n",
    "    # df.fillna(df.median(), inplace=True)\n",
    "\n",
    "    df.fillna(method = 'bfill')\n",
    "    df.fillna(method = 'ffill')\n",
    "    df.fillna(df.median(), inplace=True)\n",
    "    \n",
    "    if method == 'method 1':\n",
    "        df = M_TOOL.Drop_noise(df)\n",
    "        \n",
    "    elif method == 'method 2':\n",
    "        df = M_TOOL.Drop_noise_data(df, if_debug=True, min_delta=1e-1, iter_times=50)\n",
    "        \n",
    "    elif method == 'method 3':\n",
    "        pure_df = M_TOOL.Drop_noise_data(df, if_debug=True, min_delta=1e-1, iter_times=50)\n",
    "        df = M_TOOL.Fix_Noise_data(df, pure_df, if_debug=True)\n",
    "        \n",
    "    elif method == 'method 4':\n",
    "        pure_df = M_TOOL.Drop_noise(df)\n",
    "        df = M_TOOL.Fix_Noise_data(df, pure_df, if_debug=True)\n",
    "        \n",
    "    df = M_TOOL.Normalization(df, if_debug=True)\n",
    "    df = M_TOOL.Delete_feature(df)\n",
    "    return df\n",
    "\n",
    "\n",
    "df = Preprocess(ori_df, method='method 3')\n",
    "print(df.shape)"
   ]
  },
  {
   "attachments": {},
   "cell_type": "markdown",
   "metadata": {},
   "source": [
    "## 模型训练与预测\n",
    "\n",
    "接下来，我们将分别使用线性回归模型、决策树模型、神经网络模型、支持向量机以及 XGBoost 等分类模型对数据集进行训练，并在验证集上进行预测。"
   ]
  },
  {
   "cell_type": "code",
   "execution_count": 4,
   "metadata": {},
   "outputs": [
    {
     "name": "stdout",
     "output_type": "stream",
     "text": [
      "线性回归模型分类准确度为 0.2550979608156737\n",
      "SKLearn 线性回归模型分类准确度为 0.25029988004798076\n"
     ]
    }
   ],
   "source": [
    "from Methods import LinearReg as M_LR\n",
    "# 线性回归模型\n",
    "X_train, y_train, X_test, y_test = M_TOOL.random_Split_Data_Label(df)\n",
    "\n",
    "model_liner = M_LR.LinearRegression(X_train, y_train)\n",
    "model_liner.fit()\n",
    "pre = model_liner.predict(X_test)\n",
    "acc = Accuracy(pre, y_test)\n",
    "print(\"线性回归模型分类准确度为 {}\".format(acc))\n",
    "\n",
    "\n",
    "# 与 Sklearn 比较\n",
    "from sklearn.linear_model import LinearRegression as LR  \n",
    "model_liner_skl = LR().fit(X_train, y_train)\n",
    "pre_skl = model_liner_skl.predict(X_test)\n",
    "acc = Accuracy(pre_skl, y_test)\n",
    "print(\"SKLearn 线性回归模型分类准确度为 {}\".format(acc))\n"
   ]
  },
  {
   "cell_type": "code",
   "execution_count": 5,
   "metadata": {},
   "outputs": [
    {
     "ename": "KeyboardInterrupt",
     "evalue": "",
     "output_type": "error",
     "traceback": [
      "\u001b[1;31m---------------------------------------------------------------------------\u001b[0m",
      "\u001b[1;31mKeyboardInterrupt\u001b[0m                         Traceback (most recent call last)",
      "Cell \u001b[1;32mIn [5], line 31\u001b[0m\n\u001b[0;32m     29\u001b[0m X_train, y_train, X_test, y_test \u001b[39m=\u001b[39m M_TOOL\u001b[39m.\u001b[39mrandom_Split_Data_Label(df, rate\u001b[39m=\u001b[39m\u001b[39m0.7\u001b[39m)     \u001b[39m# 3.5 sigma 1e-1 50\u001b[39;00m\n\u001b[0;32m     30\u001b[0m model_dtc \u001b[39m=\u001b[39m M_DTC\u001b[39m.\u001b[39mDecisionTree(X_train, y_train)\n\u001b[1;32m---> 31\u001b[0m model_dtc\u001b[39m.\u001b[39mfit(parameters)\n\u001b[0;32m     33\u001b[0m pre \u001b[39m=\u001b[39m model_dtc\u001b[39m.\u001b[39mpredict(X_test)\n\u001b[0;32m     34\u001b[0m pre \u001b[39m=\u001b[39m np\u001b[39m.\u001b[39marray(pre)\u001b[39m.\u001b[39mreshape(\u001b[39m-\u001b[39m\u001b[39m1\u001b[39m, \u001b[39m1\u001b[39m)\n",
      "File \u001b[1;32md:\\2022秋\\BaiduSyncdisk\\机器学习概论\\labs\\lab5\\src\\Methods\\DecTree.py:46\u001b[0m, in \u001b[0;36mDecisionTree.fit\u001b[1;34m(self, parameters)\u001b[0m\n\u001b[0;32m     43\u001b[0m         default_parameters[key] \u001b[39m=\u001b[39m parameters[key]\n\u001b[0;32m     44\u001b[0m \u001b[39mself\u001b[39m\u001b[39m.\u001b[39m_set_parameters(default_parameters)\n\u001b[1;32m---> 46\u001b[0m \u001b[39mself\u001b[39;49m\u001b[39m.\u001b[39;49mtree\u001b[39m.\u001b[39;49mfit(\u001b[39mself\u001b[39;49m\u001b[39m.\u001b[39;49mX, \u001b[39mself\u001b[39;49m\u001b[39m.\u001b[39;49my)\n\u001b[0;32m     48\u001b[0m \u001b[39mif\u001b[39;00m \u001b[39mself\u001b[39m\u001b[39m.\u001b[39mif_silent \u001b[39m==\u001b[39m \u001b[39m0\u001b[39m:\n\u001b[0;32m     49\u001b[0m     text_representation \u001b[39m=\u001b[39m tree\u001b[39m.\u001b[39mexport_text(\u001b[39mself\u001b[39m\u001b[39m.\u001b[39mtree)\n",
      "File \u001b[1;32md:\\Python\\lib\\site-packages\\sklearn\\tree\\_classes.py:969\u001b[0m, in \u001b[0;36mDecisionTreeClassifier.fit\u001b[1;34m(self, X, y, sample_weight, check_input)\u001b[0m\n\u001b[0;32m    939\u001b[0m \u001b[39mdef\u001b[39;00m \u001b[39mfit\u001b[39m(\u001b[39mself\u001b[39m, X, y, sample_weight\u001b[39m=\u001b[39m\u001b[39mNone\u001b[39;00m, check_input\u001b[39m=\u001b[39m\u001b[39mTrue\u001b[39;00m):\n\u001b[0;32m    940\u001b[0m     \u001b[39m\"\"\"Build a decision tree classifier from the training set (X, y).\u001b[39;00m\n\u001b[0;32m    941\u001b[0m \n\u001b[0;32m    942\u001b[0m \u001b[39m    Parameters\u001b[39;00m\n\u001b[1;32m   (...)\u001b[0m\n\u001b[0;32m    966\u001b[0m \u001b[39m        Fitted estimator.\u001b[39;00m\n\u001b[0;32m    967\u001b[0m \u001b[39m    \"\"\"\u001b[39;00m\n\u001b[1;32m--> 969\u001b[0m     \u001b[39msuper\u001b[39;49m()\u001b[39m.\u001b[39;49mfit(\n\u001b[0;32m    970\u001b[0m         X,\n\u001b[0;32m    971\u001b[0m         y,\n\u001b[0;32m    972\u001b[0m         sample_weight\u001b[39m=\u001b[39;49msample_weight,\n\u001b[0;32m    973\u001b[0m         check_input\u001b[39m=\u001b[39;49mcheck_input,\n\u001b[0;32m    974\u001b[0m     )\n\u001b[0;32m    975\u001b[0m     \u001b[39mreturn\u001b[39;00m \u001b[39mself\u001b[39m\n",
      "File \u001b[1;32md:\\Python\\lib\\site-packages\\sklearn\\tree\\_classes.py:458\u001b[0m, in \u001b[0;36mBaseDecisionTree.fit\u001b[1;34m(self, X, y, sample_weight, check_input)\u001b[0m\n\u001b[0;32m    447\u001b[0m \u001b[39melse\u001b[39;00m:\n\u001b[0;32m    448\u001b[0m     builder \u001b[39m=\u001b[39m BestFirstTreeBuilder(\n\u001b[0;32m    449\u001b[0m         splitter,\n\u001b[0;32m    450\u001b[0m         min_samples_split,\n\u001b[1;32m   (...)\u001b[0m\n\u001b[0;32m    455\u001b[0m         \u001b[39mself\u001b[39m\u001b[39m.\u001b[39mmin_impurity_decrease,\n\u001b[0;32m    456\u001b[0m     )\n\u001b[1;32m--> 458\u001b[0m builder\u001b[39m.\u001b[39;49mbuild(\u001b[39mself\u001b[39;49m\u001b[39m.\u001b[39;49mtree_, X, y, sample_weight)\n\u001b[0;32m    460\u001b[0m \u001b[39mif\u001b[39;00m \u001b[39mself\u001b[39m\u001b[39m.\u001b[39mn_outputs_ \u001b[39m==\u001b[39m \u001b[39m1\u001b[39m \u001b[39mand\u001b[39;00m is_classifier(\u001b[39mself\u001b[39m):\n\u001b[0;32m    461\u001b[0m     \u001b[39mself\u001b[39m\u001b[39m.\u001b[39mn_classes_ \u001b[39m=\u001b[39m \u001b[39mself\u001b[39m\u001b[39m.\u001b[39mn_classes_[\u001b[39m0\u001b[39m]\n",
      "\u001b[1;31mKeyboardInterrupt\u001b[0m: "
     ]
    }
   ],
   "source": [
    "from Methods import DecTree as M_DTC\n",
    "\n",
    "\n",
    "parameters = {\n",
    "    \"criterion\": \"entropy\",       # 选择特征的标准，分为 \"gini\" 和 \"entropy\"\n",
    "    \"splitter\": \"best\",        # 特征划分标准，分为 \"best\" 和 \"random\"\n",
    "    \"max_depth\": 8,\n",
    "    \"min_samples_split\": 2,   \n",
    "    \"min_samples_leaf\": 4,    \n",
    "    \"max_leaf_nodes\": 100000,   \n",
    "    \"min_impurity_decrease\": 0.0, \n",
    "    \"if_silent\": 1\n",
    "}\n",
    "\n",
    "def my_sort(t1):\n",
    "    return t1[2]\n",
    "\n",
    "acc_list = []\n",
    "N=1\n",
    "for depth in range(1, 45):\n",
    "    for m_leaf in range(1, 45):\n",
    "    \n",
    "        parameters['max_depth'] = depth\n",
    "        parameters['min_samples_leaf'] = m_leaf \n",
    "        acc_sum = 0\n",
    "        \n",
    "        for times in range (1, N+1):\n",
    "        \n",
    "            X_train, y_train, X_test, y_test = M_TOOL.random_Split_Data_Label(df, rate=0.7)     # 3.5 sigma 1e-1 50\n",
    "            model_dtc = M_DTC.DecisionTree(X_train, y_train)\n",
    "            model_dtc.fit(parameters)\n",
    "\n",
    "            pre = model_dtc.predict(X_test)\n",
    "            pre = np.array(pre).reshape(-1, 1)\n",
    "            acc_sum += Accuracy(pre, y_test)\n",
    "            \n",
    "        acc_list.append((depth, m_leaf, acc_sum/N))\n",
    "        \n",
    "        acc_list.sort(key = my_sort, reverse=True)\n",
    "        test = pd.DataFrame(data=acc_list)\n",
    "        test.to_csv(\"./debug/dec_tree_params_3.csv\",encoding='gbk')\n",
    "    \n"
   ]
  },
  {
   "cell_type": "code",
   "execution_count": 190,
   "metadata": {},
   "outputs": [
    {
     "name": "stdout",
     "output_type": "stream",
     "text": [
      "决策树分类准确度为 0.2951977401129944\n"
     ]
    }
   ],
   "source": [
    "# 决策树模型\n",
    "from Methods import DecTree as M_DTC\n",
    "X_train, y_train, X_test, y_test = M_TOOL.random_Split_Data_Label(df, rate=0.7)     #0.7，  1\n",
    "\n",
    "parameters = {\n",
    "    \"criterion\": \"gini\",       # 选择特征的标准，分为 \"gini\" 和 \"entropy\"\n",
    "    \"splitter\": \"best\",        # 特征划分标准，分为 \"best\" 和 \"random\"\n",
    "    \"max_depth\": 14,\n",
    "    \"min_samples_split\": 2,   \n",
    "    \"min_samples_leaf\": 17,    \n",
    "    \"max_leaf_nodes\": 100000,   \n",
    "    \"min_impurity_decrease\": 0.0, \n",
    "    \"if_silent\": 1\n",
    "}\n",
    "\n",
    "model_dtc = M_DTC.DecisionTree(X_train, y_train)\n",
    "model_dtc.fit(parameters)\n",
    "# model_dtc.save(\"./model/Model_DecTree_0.29\")\n",
    "\n",
    "pre = model_dtc.predict(X_test)\n",
    "pre = np.array(pre).reshape(-1, 1)\n",
    "\n",
    "\n",
    "acc_dtc = Accuracy(pre, y_test)\n",
    "print(\"决策树分类准确度为 {}\".format(acc_dtc))\n"
   ]
  },
  {
   "cell_type": "code",
   "execution_count": 38,
   "metadata": {},
   "outputs": [
    {
     "name": "stdout",
     "output_type": "stream",
     "text": [
      "SVM (01) 模型分类准确度为 0.5205479452054795\n",
      "SVM (02) 模型分类准确度为 0.5154061624649859\n",
      "SVM (03) 模型分类准确度为 0.519774011299435\n",
      "SVM (12) 模型分类准确度为 0.5112994350282486\n",
      "SVM (13) 模型分类准确度为 0.5128205128205128\n",
      "SVM (23) 模型分类准确度为 0.4985422740524781\n",
      "SVM 模型分类准确度为 0.268361581920904\n"
     ]
    },
    {
     "data": {
      "image/png": "[encoded data removed]",
      "text/plain": [
       "<Figure size 640x480 with 1 Axes>"
      ]
     },
     "metadata": {},
     "output_type": "display_data"
    }
   ],
   "source": [
    "from Methods import SVM as M_SVM\n",
    "# 支持向量机模型\n",
    "\n",
    "def show(times, loss, color = '#4169E1', start=0, end=2000, title = \"\"):\n",
    "    x_axis_data = list(range(times + 1))[start:end]\n",
    "    y_axis_data = loss[start:end]\n",
    "    plt.title(title)\n",
    "    plt.plot(x_axis_data, y_axis_data, color=color, alpha=0.8, linewidth=1)\n",
    "\n",
    "X_train, y_train, X_test, y_test = M_TOOL.random_Split_Data_Label(df, [0, 1], rate=0.7)\n",
    "model_SVM_01 = M_SVM.SupportVectorMachine(X_train, y_train)\n",
    "loss, times = model_SVM_01.fit(max_times=200, ifsilent=True)\n",
    "pre_01 = model_SVM_01.predict(X_test)\n",
    "acc_01 = Accuracy(pre_01, y_test)\n",
    "print(\"SVM (01) 模型分类准确度为 {}\".format(acc_01))\n",
    "show(times, loss, color='RED')\n",
    "\n",
    "X_train, y_train, X_test, y_test = M_TOOL.random_Split_Data_Label(df, [0, 2], rate=0.7)\n",
    "model_SVM_02 = M_SVM.SupportVectorMachine(X_train, y_train)\n",
    "loss, times = model_SVM_02.fit(max_times=200, ifsilent=True)\n",
    "pre_02 = model_SVM_02.predict(X_test)\n",
    "acc_02 = Accuracy(pre_02, y_test)\n",
    "print(\"SVM (02) 模型分类准确度为 {}\".format(acc_02))\n",
    "show(times, loss, color='ORANGE')\n",
    "\n",
    "X_train, y_train, X_test, y_test = M_TOOL.random_Split_Data_Label(df, [0, 3], rate=0.7)\n",
    "model_SVM_03 = M_SVM.SupportVectorMachine(X_train, y_train)\n",
    "loss, times = model_SVM_03.fit(max_times=200, ifsilent=True)\n",
    "pre_03 = model_SVM_03.predict(X_test)\n",
    "acc_03 = Accuracy(pre_03, y_test)\n",
    "print(\"SVM (03) 模型分类准确度为 {}\".format(acc_03))\n",
    "show(times, loss, color='GOLD')\n",
    "\n",
    "X_train, y_train, X_test, y_test = M_TOOL.random_Split_Data_Label(df, [1, 2], rate=0.7)\n",
    "model_SVM_12 = M_SVM.SupportVectorMachine(X_train, y_train)\n",
    "loss, times = model_SVM_12.fit(max_times=200, ifsilent=True)\n",
    "pre_12 = model_SVM_12.predict(X_test)\n",
    "acc_12 = Accuracy(pre_12, y_test)\n",
    "print(\"SVM (12) 模型分类准确度为 {}\".format(acc_12))\n",
    "show(times, loss, color='GREEN')\n",
    "\n",
    "X_train, y_train, X_test, y_test = M_TOOL.random_Split_Data_Label(df, [1, 3], rate=0.7)\n",
    "model_SVM_13 = M_SVM.SupportVectorMachine(X_train, y_train)\n",
    "loss, times = model_SVM_13.fit(max_times=200, ifsilent=True)\n",
    "pre_13 = model_SVM_13.predict(X_test)\n",
    "acc_13 = Accuracy(pre_13, y_test)\n",
    "print(\"SVM (13) 模型分类准确度为 {}\".format(acc_13))\n",
    "show(times, loss, color='CYAN')\n",
    "\n",
    "X_train, y_train, X_test, y_test = M_TOOL.random_Split_Data_Label(df, [2, 3], rate=0.7)\n",
    "model_SVM_23 = M_SVM.SupportVectorMachine(X_train, y_train)\n",
    "loss, times = model_SVM_23.fit(max_times=200, ifsilent=True)\n",
    "pre_23 = model_SVM_23.predict(X_test)\n",
    "acc_23 = Accuracy(pre_23, y_test)\n",
    "print(\"SVM (23) 模型分类准确度为 {}\".format(acc_23))\n",
    "show(times, loss, title=\"SVM\", color='BLUE')\n",
    "\n",
    "plt.legend(['SVM(01)', 'SVM(02)', 'SVM(03)', 'SVM(12)', 'SVM(13)', 'SVM(23)'], loc='upper right')\n",
    "plt.xlabel('Iteration times')\n",
    "plt.ylabel('Loss rate')\n",
    "\n",
    "X_train, y_train, X_test, y_test = M_TOOL.random_Split_Data_Label(df, rate=0.7)\n",
    "pre_01 = model_SVM_01.predict(X_test)\n",
    "pre_02 = model_SVM_02.predict(X_test)\n",
    "pre_03 = model_SVM_03.predict(X_test)\n",
    "pre_12 = model_SVM_12.predict(X_test)\n",
    "pre_13 = model_SVM_13.predict(X_test)\n",
    "pre_23 = model_SVM_23.predict(X_test)\n",
    "\n",
    "m, _ = X_test.shape\n",
    "pre_svm = np.zeros((m, 1))\n",
    "\n",
    "for i in range(0, m):\n",
    "    vote = [0, 0, 0, 0]\n",
    "    vote[int(pre_01[i, 0])] += 1\n",
    "    vote[int(pre_02[i, 0])] += 1\n",
    "    vote[int(pre_03[i, 0])] += 1\n",
    "    vote[int(pre_12[i, 0])] += 1\n",
    "    vote[int(pre_13[i, 0])] += 1\n",
    "    vote[int(pre_23[i, 0])] += 1\n",
    "    pre_svm[i, 0] = vote.index(max(vote))\n",
    "    \n",
    "\n",
    "acc_svm = Accuracy(pre_svm, y_test)\n",
    "print(\"SVM 模型分类准确度为 {}\".format(acc_svm))"
   ]
  },
  {
   "cell_type": "code",
   "execution_count": 46,
   "metadata": {},
   "outputs": [
    {
     "name": "stdout",
     "output_type": "stream",
     "text": [
      "神经网络模型分类准确度为 0.24950019992003203\n"
     ]
    },
    {
     "name": "stderr",
     "output_type": "stream",
     "text": [
      "d:\\Python\\lib\\site-packages\\sklearn\\neural_network\\_multilayer_perceptron.py:1118: DataConversionWarning: A column-vector y was passed when a 1d array was expected. Please change the shape of y to (n_samples, ), for example using ravel().\n",
      "  y = column_or_1d(y, warn=True)\n"
     ]
    }
   ],
   "source": [
    "from Methods import NeuralNet as M_NN\n",
    "# 神经网络模型\n",
    "X_train, y_train, X_test, y_test = M_TOOL.random_Split_Data_Label(df)\n",
    "\n",
    "parameters = {\n",
    "    \"hidden_layer_sizes\": (5, 10, 5),\n",
    "    \"activation\": 'relu', # 激活函数, ‘identity’，‘logistic’，‘tanh’，‘relu’\n",
    "    \"alpha\": 0.0003, # 可选，默认为0.0001。L2惩罚（正则化项）参数。\n",
    "    \"max_iter\": 200, # 默认值200。最大迭代次数。solver迭代直到收敛（由’tol’确定）或这个迭代次数。对于随机解算器（‘sgd’，‘adam’），请注意，这决定了时期的数量（每个数据点的使用次数），而不是梯度步数。\n",
    "    \"tol\": 1e-3, # 默认1e-4 优化的容忍度，容差优化。当n_iter_no_change连续迭代的损失或分数没有提高至少tol时，除非将learning_rate设置为’adaptive’，否则认为会达到收敛并且训练停止。\n",
    "    \"if_silent\": True, \n",
    "    \"early_stopping\": True, # 当验证评分没有改善时，是否使用提前停止来终止培训。如果设置为true，它将自动留出10％的训练数据作为验证，并在验证得分没有改善至少为n_iter_no_change连续时期的tol时终止训练。仅在solver ='sgd’或’adam’时有效\n",
    "    \"validation_fraction\": 0.1, # 将训练数据的比例留作早期停止的验证集。必须介于0和1之间。仅在early_stopping为True时使用\n",
    "}\n",
    "\n",
    "model_NN = M_NN.NeuralNetwork(X_train, y_train)\n",
    "model_NN.fit(parameters)\n",
    "# model_NN.save(\"./model/Model_NN_0.258\")\n",
    "pre = model_NN.predict(X_test)\n",
    "pre = np.array(pre).reshape(-1, 1)\n",
    "\n",
    "acc_NN = Accuracy(pre, y_test)\n",
    "print(\"神经网络模型分类准确度为 {}\".format(acc_NN))"
   ]
  },
  {
   "cell_type": "code",
   "execution_count": 51,
   "metadata": {},
   "outputs": [
    {
     "name": "stdout",
     "output_type": "stream",
     "text": [
      "XGBoost 模型分类准确度为 0.22990803678528593\n"
     ]
    }
   ],
   "source": [
    "from Methods import XGBoost as M_XGB\n",
    "# XGBoost 模型\n",
    "X_train, y_train, X_test, y_test = M_TOOL.random_Split_Data_Label(df)\n",
    "\n",
    "parameters = {\n",
    "    \"learning_rate\": 0.3,       # 如同学习率\n",
    "    \"min_child_weight\": 1, \n",
    "    # 这个参数默认是 1，是每个叶子里面 h 的和至少是多少，对正负样本不均衡时的 0-1 分类而言\n",
    "    #，假设 h 在 0.01 附近，min_child_weight 为 1 意味着叶子节点中最少需要包含 100 个样本。\n",
    "    # 这个参数非常影响结果，控制叶子节点中二阶导的和的最小值，该参数值越小，越容易 overfitting。\n",
    "    \"max_depth\": 10,             # 构建树的深度，越大越容易过拟合\n",
    "    \"gamma\": 0,                 # 树的叶子节点上作进一步分区所需的最小损失减少,越大越保守，一般0.1、0.2这样子。\n",
    "    \"subsample\": 1,             # 随机采样训练样本 训练实例的子采样比\n",
    "    \"max_delta_step\": 0,        # 最大增量步长，我们允许每个树的权重估计。\n",
    "    \"colsample_bytree\": 1,      # 生成树时进行的列采样 \n",
    "    \"reg_lambda\": 1,            # 控制模型复杂度的权重值的L2正则化项参数，参数越大，模型越不容易过拟合。\n",
    "    \"reg_alpha\": 0,             # L1 正则项参数\n",
    "    \"objective\": 'multi:softmax',   # 多分类的问题 指定学习任务和相应的学习目标 binary:logitraw   multi:softmax\n",
    "    \"num_class\": 4,             # 类别数\n",
    "    \"n_estimators\": 20,         # 树的个数\n",
    "    \"seed\": 2000,                # 随机种子     \n",
    "    \"if_silent\": 1,\n",
    "}\n",
    "\n",
    "model_XGB = M_XGB.XGBoost(X_train, y_train)\n",
    "model_XGB.fit(parameters)\n",
    "# model_XGB.save(\"./model/Model_XGBoost_0.28\")\n",
    "# model_XGB= pk.load(open(\"./model/Model_XGBoost_0.28\", \"rb\")) \n",
    "\n",
    "pre = model_XGB.predict(X_test)\n",
    "pre = np.array(pre).reshape(-1, 1)\n",
    "\n",
    "acc_xgb = Accuracy(pre, y_test)\n",
    "print(\"XGBoost 模型分类准确度为 {}\".format(acc_xgb))\n"
   ]
  },
  {
   "cell_type": "code",
   "execution_count": 53,
   "metadata": {},
   "outputs": [],
   "source": [
    "from Methods import XGBoost as M_XGB\n",
    "# XGBoost 模型\n",
    "\n",
    "parameters = {\n",
    "    \"learning_rate\": 0.3,       # 如同学习率\n",
    "    \"min_child_weight\": 1, \n",
    "    # 这个参数默认是 1，是每个叶子里面 h 的和至少是多少，对正负样本不均衡时的 0-1 分类而言\n",
    "    #，假设 h 在 0.01 附近，min_child_weight 为 1 意味着叶子节点中最少需要包含 100 个样本。\n",
    "    # 这个参数非常影响结果，控制叶子节点中二阶导的和的最小值，该参数值越小，越容易 overfitting。\n",
    "    \"max_depth\": 16,             # 构建树的深度，越大越容易过拟合\n",
    "    \"gamma\": 0,                 # 树的叶子节点上作进一步分区所需的最小损失减少,越大越保守，一般0.1、0.2这样子。\n",
    "    \"subsample\": 1,             # 随机采样训练样本 训练实例的子采样比\n",
    "    \"max_delta_step\": 0,        # 最大增量步长，我们允许每个树的权重估计。\n",
    "    \"colsample_bytree\": 1,      # 生成树时进行的列采样 \n",
    "    \"reg_lambda\": 1,            # 控制模型复杂度的权重值的L2正则化项参数，参数越大，模型越不容易过拟合。\n",
    "    \"reg_alpha\": 0,             # L1 正则项参数\n",
    "    \"objective\": 'multi:softmax',   # 多分类的问题 指定学习任务和相应的学习目标 binary:logitraw   multi:softmax\n",
    "    \"num_class\": 4,             # 类别数\n",
    "    \"n_estimators\": 20,         # 树的个数\n",
    "    \"seed\": 2000,                # 随机种子     \n",
    "    \"if_silent\": 1,\n",
    "}\n",
    "\n",
    "def my_sort(t1):\n",
    "    return t1[2]\n",
    "\n",
    "acc_list = []\n",
    "N=1\n",
    "for depth in range(1, 50):\n",
    "    for t in range(10, 100, 5):\n",
    "    \n",
    "        parameters['max_depth'] = depth\n",
    "        parameters['n_estimators'] = t \n",
    "        acc_sum = 0\n",
    "        \n",
    "        for times in range (1, N+1):\n",
    "        \n",
    "            X_train, y_train, X_test, y_test = M_TOOL.random_Split_Data_Label(df, rate=0.7)\n",
    "            model_XGB = M_XGB.XGBoost(X_train, y_train)\n",
    "            model_XGB.fit(parameters)\n",
    "\n",
    "            pre = model_XGB.predict(X_test)\n",
    "            pre = np.array(pre).reshape(-1, 1)\n",
    "            acc_sum += Accuracy(pre, y_test)\n",
    "            \n",
    "        acc_list.append((depth, t, acc_sum/N))\n",
    "        \n",
    "        acc_list.sort(key = my_sort, reverse=True)\n",
    "        test = pd.DataFrame(data=acc_list)\n",
    "        test.to_csv(\"./debug/xgb_params_2.csv\",encoding='gbk')\n",
    "    \n",
    "\n"
   ]
  },
  {
   "cell_type": "code",
   "execution_count": null,
   "metadata": {},
   "outputs": [],
   "source": [
    "# parameters = {\n",
    "#     \"learning_rate\": 0.3,       # 如同学习率\n",
    "#     \"min_child_weight\": 1, \n",
    "#     # 这个参数默认是 1，是每个叶子里面 h 的和至少是多少，对正负样本不均衡时的 0-1 分类而言\n",
    "#     #，假设 h 在 0.01 附近，min_child_weight 为 1 意味着叶子节点中最少需要包含 100 个样本。\n",
    "#     # 这个参数非常影响结果，控制叶子节点中二阶导的和的最小值，该参数值越小，越容易 overfitting。\n",
    "#     \"max_depth\": 9,             # 构建树的深度，越大越容易过拟合\n",
    "#     \"gamma\": 0,                 # 树的叶子节点上作进一步分区所需的最小损失减少,越大越保守，一般0.1、0.2这样子。\n",
    "#     \"subsample\": 1,             # 随机采样训练样本 训练实例的子采样比\n",
    "#     \"max_delta_step\": 0,        # 最大增量步长，我们允许每个树的权重估计。\n",
    "#     \"colsample_bytree\": 1,      # 生成树时进行的列采样 \n",
    "#     \"reg_lambda\": 1,            # 控制模型复杂度的权重值的L2正则化项参数，参数越大，模型越不容易过拟合。\n",
    "#     \"reg_alpha\": 0,             # L1 正则项参数\n",
    "#     \"objective\": 'multi:softmax',   # 多分类的问题 指定学习任务和相应的学习目标 binary:logitraw   multi:softmax\n",
    "#     \"num_class\": 4,             # 类别数\n",
    "#     \"n_estimators\": 90,         # 树的个数\n",
    "#     \"seed\": 2000,                # 随机种子     \n",
    "#     \"if_silent\": 1,\n",
    "# }\n"
   ]
  },
  {
   "attachments": {},
   "cell_type": "markdown",
   "metadata": {},
   "source": [
    "## 最终的预测"
   ]
  },
  {
   "cell_type": "code",
   "execution_count": null,
   "metadata": {},
   "outputs": [],
   "source": []
  }
 ],
 "metadata": {
  "kernelspec": {
   "display_name": "Python 3",
   "language": "python",
   "name": "python3"
  },
  "language_info": {
   "codemirror_mode": {
    "name": "ipython",
    "version": 3
   },
   "file_extension": ".py",
   "mimetype": "text/x-python",
   "name": "python",
   "nbconvert_exporter": "python",
   "pygments_lexer": "ipython3",
   "version": "3.10.4"
  },
  "orig_nbformat": 4,
  "vscode": {
   "interpreter": {
    "hash": "2469a70536e4d2335a2ea8907942d0699c37342a371ac185bdb5b0aa6f073890"
   }
  }
 },
 "nbformat": 4,
 "nbformat_minor": 2
}
