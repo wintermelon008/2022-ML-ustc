{
 "cells": [
  {
   "cell_type": "code",
   "execution_count": 37,
   "metadata": {},
   "outputs": [],
   "source": [
    "import pandas as pd\n",
    "import numpy as np\n",
    "import random as rd \n",
    "\n",
    "from Judge.Score import *   # 评价指标"
   ]
  },
  {
   "cell_type": "code",
   "execution_count": 38,
   "metadata": {},
   "outputs": [],
   "source": [
    "df_ft_origin = pd.read_csv('./Datasets/train_feature.csv')\n",
    "df_lb_origin = pd.read_csv('./Datasets/train_label.csv') \n",
    "\n",
    "# df_origin = pd.concat([df_ft_origin, df_lb_origin],axis=1)\n"
   ]
  },
  {
   "attachments": {},
   "cell_type": "markdown",
   "metadata": {},
   "source": [
    "## 数据预处理\n",
    "首先进行数据的预处理。"
   ]
  },
  {
   "cell_type": "code",
   "execution_count": 39,
   "metadata": {},
   "outputs": [
    {
     "name": "stdout",
     "output_type": "stream",
     "text": [
      "          0         1         2         3         4         5         6  \\\n",
      "0 -0.000226 -0.004050 -0.000307 -0.002737 -0.000523  0.000058 -0.001695   \n",
      "1 -0.000231 -0.004078 -0.000374 -0.002782 -0.000526  0.000110 -0.001643   \n",
      "2 -0.000262 -0.004010 -0.000297 -0.002763 -0.000540  0.000106 -0.001686   \n",
      "3 -0.000219 -0.004059 -0.000318 -0.002756 -0.000619  0.000130 -0.001705   \n",
      "4 -0.000276 -0.004037 -0.000291 -0.002774 -0.000575  0.000078 -0.001618   \n",
      "\n",
      "          7         8         9  ...       105       106       107       108  \\\n",
      "0 -0.002750 -0.000721 -0.003128  ... -0.001904  0.000380  0.001621  0.001079   \n",
      "1 -0.002730 -0.000689 -0.003090  ... -0.001883  0.000402  0.001614  0.001007   \n",
      "2 -0.002718 -0.000695 -0.003151  ... -0.001886  0.000352  0.001578  0.001082   \n",
      "3 -0.002717 -0.000701 -0.003104  ... -0.001928  0.000409  0.001607  0.001029   \n",
      "4 -0.002718 -0.000705 -0.003119  ... -0.001887  0.000375  0.001553  0.001084   \n",
      "\n",
      "        109       110       111       112       113  label  \n",
      "0  0.002271 -0.002646  0.000305  0.000023 -0.002782    0.0  \n",
      "1  0.002229 -0.002648  0.000273 -0.000035 -0.002758    0.0  \n",
      "2  0.002251 -0.002720  0.000317 -0.000019 -0.002708    0.0  \n",
      "3  0.002226 -0.002739  0.000300 -0.000124 -0.002726    2.0  \n",
      "4  0.002173 -0.002729  0.000283  0.000003 -0.002761    2.0  \n",
      "\n",
      "[5 rows x 115 columns]\n",
      "(10000, 115)\n"
     ]
    }
   ],
   "source": [
    "from Preprocessing import Tools as pt\n",
    "from Preprocessing import PCA\n",
    "\n",
    "df_ft = pt.random_FillMissingData(df_ft_origin)\n",
    "df_lb = pt.random_FillMissingData(df_lb_origin)\n",
    "\n",
    "df_ft = pt.Normalization(df_ft).values\n",
    "\n",
    "PCA_model = PCA.PCA(df_ft)\n",
    "df_ft = pd.DataFrame(PCA_model.reduce_dimension())\n",
    "# print(df.head())\n",
    "df = pd.concat([df_ft, df_lb], axis=1)\n",
    "print(df.head())\n",
    "print(df.shape)\n",
    "\n",
    "\n",
    "X_train, y_train, X_test, Y_test = pt.random_Split_data(df)\n"
   ]
  },
  {
   "attachments": {},
   "cell_type": "markdown",
   "metadata": {},
   "source": [
    "## 模型训练与预测\n",
    "\n",
    "接下来，我们将分别使用线性回归模型、决策树模型、神经网络模型、支持向量机以及 XGBoost 等分类模型对数据集进行训练，并在验证集上进行预测。"
   ]
  },
  {
   "cell_type": "code",
   "execution_count": 40,
   "metadata": {},
   "outputs": [
    {
     "name": "stdout",
     "output_type": "stream",
     "text": [
      "线性回归模型分类准确度为 0.25560000000000005\n",
      "SKLearn 分类准确度为 0.23960000000000004\n"
     ]
    }
   ],
   "source": [
    "from Methods import LinearReg as M_LR\n",
    "# 线性回归模型\n",
    "\n",
    "model_liner = M_LR.LinearRegression()\n",
    "model_liner.fit(X_train, y_train)\n",
    "pre = model_liner.predict(X_test)\n",
    "\n",
    "acc = Accuracy(pre, Y_test)\n",
    "print(\"线性回归模型分类准确度为 {}\".format(acc))\n",
    "\n",
    "\n",
    "# 与 Sklearn 比较\n",
    "from sklearn.linear_model import LinearRegression as LR  \n",
    "model_liner_skl = LR().fit(X_train, y_train)\n",
    "pre_skl = model_liner_skl.predict(X_test)\n",
    "\n",
    "acc = Accuracy(pre_skl, Y_test)\n",
    "print(\"SKLearn 分类准确度为 {}\".format(acc))"
   ]
  },
  {
   "cell_type": "code",
   "execution_count": 41,
   "metadata": {},
   "outputs": [],
   "source": [
    "# from Methods import RegTree as M_RT\n",
    "# # 回归树模型\n",
    "\n",
    "# m, n = y_train.shape \n",
    "# y_t = np.zeros((m, n))\n",
    "# model_regtree = M_RT.RegressionTree(X_train, y_train, y_t)\n",
    "# default_parameters = {\n",
    "#     \"lamda\": 2,             # Hyperparameters\n",
    "#     \"gamma\": 1e-6,          # Hyperparameters\n",
    "#     \"gain_delta\": 0,        # The minimum gain\n",
    "#     \"max_depth\": 7,\n",
    "#     \"max_leaves\": 100,\n",
    "#     \"max_nodes\": 1000,\n",
    "#     \"min_samples\": 10,      # Minimum number of samples on a leaf\n",
    "#     \"min_feature_dif\": 5,   # The minimum number of different value for current feature\n",
    "#     \"if_silent\": 0\n",
    "# }\n",
    "# model_regtree.fit(default_parameters)\n",
    "# pre = model_regtree.predict(X_test)\n",
    "\n",
    "# acc = Accuracy(pre, Y_test)\n",
    "# print(\"回归树模型分类准确度为 {}\".format(acc))\n"
   ]
  },
  {
   "cell_type": "code",
   "execution_count": 42,
   "metadata": {},
   "outputs": [],
   "source": [
    "# from Methods import SVM as M_SVM\n",
    "# # 支持向量机模型\n",
    "\n",
    "# model_SVM = M_SVM.SupportVectorMachine(X_train, y_train)\n",
    "# model_SVM.fit(max_times=500, ifsilent=True)\n",
    "# pre = model_SVM.predict(X_test)\n",
    "\n",
    "# acc = Accuracy(pre, Y_test)\n",
    "# print(\"SVM 模型分类准确度为 {}\".format(acc))\n",
    "\n",
    "\n",
    "# # 与 SKLearn 比较\n",
    "# from sklearn import svm \n",
    "# model = svm.SVC(kernel='linear')\n",
    "# model.fit(X_train, y_train.flatten())\n",
    "# pre_skl = model.predict(X_test).reshape(-1, 1)\n",
    "\n",
    "# acc = Accuracy(pre_skl, Y_test)\n",
    "# print(\"SKLearn 分类准确度为 {}\".format(acc))"
   ]
  }
 ],
 "metadata": {
  "kernelspec": {
   "display_name": "Python 3",
   "language": "python",
   "name": "python3"
  },
  "language_info": {
   "codemirror_mode": {
    "name": "ipython",
    "version": 3
   },
   "file_extension": ".py",
   "mimetype": "text/x-python",
   "name": "python",
   "nbconvert_exporter": "python",
   "pygments_lexer": "ipython3",
   "version": "3.10.4"
  },
  "orig_nbformat": 4,
  "vscode": {
   "interpreter": {
    "hash": "2469a70536e4d2335a2ea8907942d0699c37342a371ac185bdb5b0aa6f073890"
   }
  }
 },
 "nbformat": 4,
 "nbformat_minor": 2
}
