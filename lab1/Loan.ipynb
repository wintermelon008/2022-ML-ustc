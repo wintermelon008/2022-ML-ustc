{
 "cells": [
  {
   "cell_type": "markdown",
   "metadata": {},
   "source": [
    "## Load Dataset"
   ]
  },
  {
   "cell_type": "code",
   "execution_count": 673,
   "metadata": {},
   "outputs": [
    {
     "data": {
      "text/html": [
       "<div>\n",
       "<style scoped>\n",
       "    .dataframe tbody tr th:only-of-type {\n",
       "        vertical-align: middle;\n",
       "    }\n",
       "\n",
       "    .dataframe tbody tr th {\n",
       "        vertical-align: top;\n",
       "    }\n",
       "\n",
       "    .dataframe thead th {\n",
       "        text-align: right;\n",
       "    }\n",
       "</style>\n",
       "<table border=\"1\" class=\"dataframe\">\n",
       "  <thead>\n",
       "    <tr style=\"text-align: right;\">\n",
       "      <th></th>\n",
       "      <th>Loan_ID</th>\n",
       "      <th>Gender</th>\n",
       "      <th>Married</th>\n",
       "      <th>Dependents</th>\n",
       "      <th>Education</th>\n",
       "      <th>Self_Employed</th>\n",
       "      <th>ApplicantIncome</th>\n",
       "      <th>CoapplicantIncome</th>\n",
       "      <th>LoanAmount</th>\n",
       "      <th>Loan_Amount_Term</th>\n",
       "      <th>Credit_History</th>\n",
       "      <th>Property_Area</th>\n",
       "      <th>Loan_Status</th>\n",
       "    </tr>\n",
       "  </thead>\n",
       "  <tbody>\n",
       "    <tr>\n",
       "      <th>0</th>\n",
       "      <td>LP001002</td>\n",
       "      <td>Male</td>\n",
       "      <td>No</td>\n",
       "      <td>0</td>\n",
       "      <td>Graduate</td>\n",
       "      <td>No</td>\n",
       "      <td>5849</td>\n",
       "      <td>0.0</td>\n",
       "      <td>NaN</td>\n",
       "      <td>360.0</td>\n",
       "      <td>1.0</td>\n",
       "      <td>Urban</td>\n",
       "      <td>Y</td>\n",
       "    </tr>\n",
       "    <tr>\n",
       "      <th>1</th>\n",
       "      <td>LP001003</td>\n",
       "      <td>Male</td>\n",
       "      <td>Yes</td>\n",
       "      <td>1</td>\n",
       "      <td>Graduate</td>\n",
       "      <td>No</td>\n",
       "      <td>4583</td>\n",
       "      <td>1508.0</td>\n",
       "      <td>128.0</td>\n",
       "      <td>360.0</td>\n",
       "      <td>1.0</td>\n",
       "      <td>Rural</td>\n",
       "      <td>N</td>\n",
       "    </tr>\n",
       "    <tr>\n",
       "      <th>2</th>\n",
       "      <td>LP001005</td>\n",
       "      <td>Male</td>\n",
       "      <td>Yes</td>\n",
       "      <td>0</td>\n",
       "      <td>Graduate</td>\n",
       "      <td>Yes</td>\n",
       "      <td>3000</td>\n",
       "      <td>0.0</td>\n",
       "      <td>66.0</td>\n",
       "      <td>360.0</td>\n",
       "      <td>1.0</td>\n",
       "      <td>Urban</td>\n",
       "      <td>Y</td>\n",
       "    </tr>\n",
       "    <tr>\n",
       "      <th>3</th>\n",
       "      <td>LP001006</td>\n",
       "      <td>Male</td>\n",
       "      <td>Yes</td>\n",
       "      <td>0</td>\n",
       "      <td>Not Graduate</td>\n",
       "      <td>No</td>\n",
       "      <td>2583</td>\n",
       "      <td>2358.0</td>\n",
       "      <td>120.0</td>\n",
       "      <td>360.0</td>\n",
       "      <td>1.0</td>\n",
       "      <td>Urban</td>\n",
       "      <td>Y</td>\n",
       "    </tr>\n",
       "    <tr>\n",
       "      <th>4</th>\n",
       "      <td>LP001008</td>\n",
       "      <td>Male</td>\n",
       "      <td>No</td>\n",
       "      <td>0</td>\n",
       "      <td>Graduate</td>\n",
       "      <td>No</td>\n",
       "      <td>6000</td>\n",
       "      <td>0.0</td>\n",
       "      <td>141.0</td>\n",
       "      <td>360.0</td>\n",
       "      <td>1.0</td>\n",
       "      <td>Urban</td>\n",
       "      <td>Y</td>\n",
       "    </tr>\n",
       "  </tbody>\n",
       "</table>\n",
       "</div>"
      ],
      "text/plain": [
       "    Loan_ID Gender Married Dependents     Education Self_Employed  \\\n",
       "0  LP001002   Male      No          0      Graduate            No   \n",
       "1  LP001003   Male     Yes          1      Graduate            No   \n",
       "2  LP001005   Male     Yes          0      Graduate           Yes   \n",
       "3  LP001006   Male     Yes          0  Not Graduate            No   \n",
       "4  LP001008   Male      No          0      Graduate            No   \n",
       "\n",
       "   ApplicantIncome  CoapplicantIncome  LoanAmount  Loan_Amount_Term  \\\n",
       "0             5849                0.0         NaN             360.0   \n",
       "1             4583             1508.0       128.0             360.0   \n",
       "2             3000                0.0        66.0             360.0   \n",
       "3             2583             2358.0       120.0             360.0   \n",
       "4             6000                0.0       141.0             360.0   \n",
       "\n",
       "   Credit_History Property_Area Loan_Status  \n",
       "0             1.0         Urban           Y  \n",
       "1             1.0         Rural           N  \n",
       "2             1.0         Urban           Y  \n",
       "3             1.0         Urban           Y  \n",
       "4             1.0         Urban           Y  "
      ]
     },
     "execution_count": 673,
     "metadata": {},
     "output_type": "execute_result"
    }
   ],
   "source": [
    "import pandas as pd\n",
    "import random as rd\n",
    "import numpy as np\n",
    "df = pd.read_csv('loan.csv')\n",
    "df.head()"
   ]
  },
  {
   "cell_type": "markdown",
   "metadata": {},
   "source": [
    "## Dataset Info"
   ]
  },
  {
   "cell_type": "code",
   "execution_count": 674,
   "metadata": {},
   "outputs": [
    {
     "data": {
      "text/plain": [
       "count      601\n",
       "unique       2\n",
       "top       Male\n",
       "freq       489\n",
       "Name: Gender, dtype: object"
      ]
     },
     "execution_count": 674,
     "metadata": {},
     "output_type": "execute_result"
    }
   ],
   "source": [
    "# df.info()\n",
    "df['Gender'].describe()"
   ]
  },
  {
   "cell_type": "markdown",
   "metadata": {},
   "source": [
    "## PART1: Data Cleaning"
   ]
  },
  {
   "cell_type": "code",
   "execution_count": 675,
   "metadata": {},
   "outputs": [],
   "source": [
    "# Task1 deal with NULL rows, you can either choose to drop them or replace them with mean or other value \n",
    "\n",
    "# Checking the Missing Values\n",
    "\n",
    "# A function used to fill missing data from the same column randomly\n",
    "def random_FillMissingData(_df: pd.DataFrame) -> pd.DataFrame:\n",
    "    df = _df.copy()\n",
    "    for column in df.columns:\n",
    "        data = df[column].copy()\n",
    "        empty_rows = data.isnull()\n",
    "        data[empty_rows] = rd.choices(data[~empty_rows].values, k = empty_rows.sum())\n",
    "        df[column] = data\n",
    "    return df\n",
    "\n",
    "# df = df.dropna()\n",
    "df = random_FillMissingData(df)\n",
    "\n",
    "# DEBUG ONLY\n",
    "# df.to_csv(\"./temp/temp1.csv\", index=False) \n",
    "# print(df['Self_Employed'].value_counts())\n",
    "# print(df.isnull().sum())"
   ]
  },
  {
   "cell_type": "markdown",
   "metadata": {},
   "source": [
    "## PART2: Encode \n",
    "\n",
    "\n"
   ]
  },
  {
   "cell_type": "code",
   "execution_count": 676,
   "metadata": {},
   "outputs": [],
   "source": [
    "# Task2 deal with categorical features\n",
    "\n",
    "df['Gender'] = df['Gender'].map({'Female': 0, 'Male': 1})\n",
    "df['Married'] = df['Married'].map({'Yes': 1, 'No': 0})\n",
    "df['Dependents'] = df['Dependents'].map({'0': 0, '1': 1, '2': 2, '3+': 3})\n",
    "df['Education'] = df['Education'].map({'Graduate': 1, 'Not Graduate': 0})\n",
    "df['Property_Area'] = df['Property_Area'].map({'Rural': 0, 'Semiurban': 1, 'Urban': 2})\n",
    "df['Self_Employed'] = df['Self_Employed'].map({'Yes': 1, 'No': 0})\n",
    "df['Loan_Status'] = df['Loan_Status'].map({'Y': 1, 'N': 0})\n",
    "\n",
    "# print(df.head())\n",
    "# Loan_ID  Gender  Married  Dependents  Education  Self_Employed \n",
    "\n",
    "# ApplicantIncome  CoapplicantIncome  LoanAmount  Loan_Amount_Term\n",
    "\n",
    "# Credit_History  Property_Area\n",
    "# df.drop(df.columns[[0,1,2,3,4,5,6,7,8,9,11]], axis=1, inplace=True)\n",
    "df.drop(df.columns[[0, 1, 2, 4, 8]], axis=1, inplace=True)\n",
    "# df.drop(df.columns[[0]], axis=1, inplace=True)\n",
    "\n",
    "df = df.apply(lambda x: (x - np.min(x)) / (np.max(x) - np.min(x))).round(4)\n",
    "\n",
    "# DEBUG ONLY\n",
    "# df.to_csv(\"./temp/temp2.csv\", index=False) \n"
   ]
  },
  {
   "cell_type": "markdown",
   "metadata": {},
   "source": [
    "## PART3: Data Process"
   ]
  },
  {
   "cell_type": "code",
   "execution_count": 677,
   "metadata": {},
   "outputs": [],
   "source": [
    "# Task3 split the dataset into X_train, X_test, y_train, y_test\n",
    "# Optional: you can also use normalization\n",
    "\n",
    "def random_Split_data(data: pd.DataFrame, rate = 0.75):\n",
    "    m, n = data.shape\n",
    "    data.reindex(np.random.permutation(data.index))\n",
    "\n",
    "    row_split = int(m * rate)\n",
    "    X_train = df.iloc[0: row_split, 0: n - 1].values\n",
    "    y_train = df.iloc[0: row_split, n - 1: ].values\n",
    "    X_test = df.iloc[row_split: m, 0: n - 1].values\n",
    "    y_test = df.iloc[row_split: m, n - 1: ].values\n",
    "    \n",
    "    return X_train, y_train, X_test, y_test\n",
    "\n",
    "\n",
    "X_train, y_train, X_test, y_test = random_Split_data(df, rate=0.7)\n"
   ]
  },
  {
   "cell_type": "markdown",
   "metadata": {},
   "source": [
    "## PART4: Train"
   ]
  },
  {
   "cell_type": "code",
   "execution_count": 678,
   "metadata": {},
   "outputs": [],
   "source": [
    "# Task4 train your model and plot the loss curve of training\n",
    "from Logistic import LogisticRegression\n",
    "import matplotlib.pyplot as plt\n",
    "\n",
    "\n",
    "lr = LogisticRegression()\n",
    "# times, loss = lr.fit(X_train, y_train, lr=0.0005,tol=1e-6)\n",
    "times, loss = lr.fit(X_train, y_train, lr=0.0005, tol=1e-2)\n",
    "pred = lr.predict(X_test)\n",
    "\n",
    "# DEBUG ONLY\n",
    "# print(loss)\n",
    "# print(pred)\n",
    "# print(lr.w)"
   ]
  },
  {
   "cell_type": "markdown",
   "metadata": {},
   "source": [
    "## PART5: Figure"
   ]
  },
  {
   "cell_type": "code",
   "execution_count": 679,
   "metadata": {},
   "outputs": [
    {
     "name": "stderr",
     "output_type": "stream",
     "text": [
      "No artists with labels found to put in legend.  Note that artists whose label start with an underscore are ignored when legend() is called with no argument.\n"
     ]
    },
    {
     "name": "stdout",
     "output_type": "stream",
     "text": [
      "0.8324324324324325\n"
     ]
    },
    {
     "data": {
      "image/png": "[encoded data removed]",
      "text/plain": [
       "<Figure size 640x480 with 1 Axes>"
      ]
     },
     "metadata": {},
     "output_type": "display_data"
    }
   ],
   "source": [
    "# Task5 compare the accuracy(or other metrics you want) of test data with different parameters you train with\n",
    "sum = 0\n",
    "count = 0\n",
    "for i in range(len(y_test)):\n",
    "    if y_test[i] == pred[i]:\n",
    "        count += 1\n",
    "    sum += 1\n",
    "print(count / sum)\n",
    "\n",
    "\n",
    "import pylab as pl\n",
    "\n",
    "pl.mpl.rcParams['font.sans-serif'] = ['SimHei']  \n",
    "\n",
    "x_axis_data = list(range(times + 1))[0:1500]\n",
    "y_axis_data = loss[0:1500]\n",
    "\n",
    "plt.plot(x_axis_data, y_axis_data, color='#4169E1', alpha=0.8, linewidth=1)\n",
    "plt.legend(loc=\"upper right\")\n",
    "plt.xlabel('迭代次数')\n",
    "plt.ylabel('损失率')\n",
    "\n",
    "plt.show()\n"
   ]
  },
  {
   "cell_type": "code",
   "execution_count": 680,
   "metadata": {},
   "outputs": [
    {
     "name": "stdout",
     "output_type": "stream",
     "text": [
      "0.8324324324324325\n",
      "   Dependents  Self_Employed  ApplicantIncome  CoapplicantIncome  \\\n",
      "0      0.0000            0.0           0.0705             0.0000   \n",
      "1      0.3333            0.0           0.0548             0.0362   \n",
      "2      0.0000            1.0           0.0353             0.0000   \n",
      "3      0.0000            0.0           0.0301             0.0566   \n",
      "4      0.0000            0.0           0.0724             0.0000   \n",
      "\n",
      "   Loan_Amount_Term  Credit_History  Property_Area  Loan_Status  \n",
      "0            0.7436             1.0            1.0          1.0  \n",
      "1            0.7436             1.0            0.0          0.0  \n",
      "2            0.7436             1.0            1.0          1.0  \n",
      "3            0.7436             1.0            1.0          1.0  \n",
      "4            0.7436             1.0            1.0          1.0  \n"
     ]
    }
   ],
   "source": [
    "print(count / sum)\n",
    "print(df.head())"
   ]
  }
 ],
 "metadata": {
  "kernelspec": {
   "display_name": "Python 3.10.4 64-bit",
   "language": "python",
   "name": "python3"
  },
  "language_info": {
   "codemirror_mode": {
    "name": "ipython",
    "version": 3
   },
   "file_extension": ".py",
   "mimetype": "text/x-python",
   "name": "python",
   "nbconvert_exporter": "python",
   "pygments_lexer": "ipython3",
   "version": "3.10.4"
  },
  "orig_nbformat": 4,
  "vscode": {
   "interpreter": {
    "hash": "2469a70536e4d2335a2ea8907942d0699c37342a371ac185bdb5b0aa6f073890"
   }
  }
 },
 "nbformat": 4,
 "nbformat_minor": 2
}
