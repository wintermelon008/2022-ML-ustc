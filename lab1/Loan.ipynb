{
 "cells": [
  {
   "cell_type": "markdown",
   "metadata": {},
   "source": [
    "## Load Dataset"
   ]
  },
  {
   "cell_type": "code",
   "execution_count": 287,
   "metadata": {},
   "outputs": [],
   "source": [
    "import pandas as pd\n",
    "import random as rd\n",
    "import numpy as np\n",
    "df = pd.read_csv('loan.csv')\n",
    "\n",
    "seed = 42675\n",
    "# 如果为 -1 则不设置随机数种子"
   ]
  },
  {
   "cell_type": "markdown",
   "metadata": {},
   "source": [
    "## PART1: Data Cleaning"
   ]
  },
  {
   "cell_type": "code",
   "execution_count": 288,
   "metadata": {},
   "outputs": [],
   "source": [
    "# Task1 deal with NULL rows, you can either choose to drop them or replace them with mean or other value \n",
    "\n",
    "# Checking the Missing Values\n",
    "\n",
    "# A function used to fill missing data from the same column randomly\n",
    "def random_FillMissingData(_df: pd.DataFrame, random_seed: int = -1) -> pd.DataFrame:\n",
    "    df = _df.copy()\n",
    "    for column in df.columns:\n",
    "        data = df[column].copy()\n",
    "        empty_rows = data.isnull()\n",
    "        if (random_seed != -1):\n",
    "            rd.seed(abs(random_seed))\n",
    "        data[empty_rows] = rd.choices(data[~empty_rows].values, k = empty_rows.sum())\n",
    "        df[column] = data\n",
    "    return df\n",
    "\n",
    "# df = df.dropna()\n",
    "df = random_FillMissingData(df, random_seed=seed)\n",
    "\n",
    "# DEBUG ONLY\n",
    "# df.to_csv(\"./temp/temp1.csv\", index=False) \n",
    "# print(df['Self_Employed'].value_counts())\n",
    "# print(df.isnull().sum())"
   ]
  },
  {
   "cell_type": "markdown",
   "metadata": {},
   "source": [
    "## PART2: Encode \n",
    "\n",
    "\n"
   ]
  },
  {
   "cell_type": "code",
   "execution_count": 289,
   "metadata": {},
   "outputs": [],
   "source": [
    "# Task2 deal with categorical features\n",
    "\n",
    "df['Gender'] = df['Gender'].map({'Female': 0, 'Male': 1})\n",
    "df['Married'] = df['Married'].map({'Yes': 1, 'No': 0})\n",
    "df['Dependents'] = df['Dependents'].map({'0': 0, '1': 1, '2': 2, '3+': 3})\n",
    "df['Education'] = df['Education'].map({'Graduate': 1, 'Not Graduate': 0})\n",
    "df['Property_Area'] = df['Property_Area'].map({'Rural': 0, 'Semiurban': 1, 'Urban': 2})\n",
    "df['Self_Employed'] = df['Self_Employed'].map({'Yes': 1, 'No': 0})\n",
    "df['Loan_Status'] = df['Loan_Status'].map({'Y': 1, 'N': 0})\n",
    "\n",
    "# print(df.head())\n",
    "# Loan_ID  Gender  Married  Dependents  Education  Self_Employed \n",
    "\n",
    "# ApplicantIncome  CoapplicantIncome  LoanAmount  Loan_Amount_Term\n",
    "\n",
    "# Credit_History  Property_Area\n",
    "# df.drop(df.columns[[0,1,2,3,4,5,6,7,8,9,11]], axis=1, inplace=True)\n",
    "df.drop(df.columns[[0, 1, 2, 4, 8]], axis=1, inplace=True)\n",
    "# df.drop(df.columns[[0]], axis=1, inplace=True)\n",
    "\n",
    "df = df.apply(lambda x: (x - np.min(x)) / (np.max(x) - np.min(x))).round(4)\n",
    "\n",
    "# DEBUG ONLY\n",
    "# df.to_csv(\"./temp/temp2.csv\", index=False) \n"
   ]
  },
  {
   "cell_type": "markdown",
   "metadata": {},
   "source": [
    "## PART3: Data Process"
   ]
  },
  {
   "cell_type": "code",
   "execution_count": 290,
   "metadata": {},
   "outputs": [],
   "source": [
    "# Task3 split the dataset into X_train, X_test, y_train, y_test\n",
    "# Optional: you can also use normalization\n",
    "\n",
    "def random_Split_data(data: pd.DataFrame, rate = 0.75, random_seed: int = -1):\n",
    "    m, n = data.shape\n",
    "    if random_seed != -1:\n",
    "        np.random.seed(abs(random_seed))\n",
    "    data.reindex(np.random.permutation(data.index))\n",
    "\n",
    "    row_split = int(m * rate)\n",
    "    X_train = df.iloc[0: row_split, 0: n - 1].values\n",
    "    y_train = df.iloc[0: row_split, n - 1: ].values\n",
    "    X_test = df.iloc[row_split: m, 0: n - 1].values\n",
    "    y_test = df.iloc[row_split: m, n - 1: ].values\n",
    "    \n",
    "    return X_train, y_train, X_test, y_test\n",
    "\n",
    "\n",
    "X_train, y_train, X_test, y_test = random_Split_data(df, rate=0.7)\n"
   ]
  },
  {
   "cell_type": "markdown",
   "metadata": {},
   "source": [
    "## PART4: Train"
   ]
  },
  {
   "cell_type": "code",
   "execution_count": 291,
   "metadata": {},
   "outputs": [],
   "source": [
    "# Task4 train your model and plot the loss curve of training\n",
    "from Logistic import LogisticRegression\n",
    "import matplotlib.pyplot as plt\n",
    "\n",
    "\n",
    "lr = LogisticRegression(penalty='l2', gamma=1)\n",
    "times, loss = lr.fit(X_train, y_train, lr=0.001, tol=1e-2)\n",
    "pred = lr.predict(X_test)\n",
    "\n",
    "# DEBUG ONLY\n",
    "# print(loss)\n",
    "# print(pred)\n",
    "# print(lr.w)"
   ]
  },
  {
   "cell_type": "markdown",
   "metadata": {},
   "source": [
    "## PART5: Figure"
   ]
  },
  {
   "cell_type": "code",
   "execution_count": 292,
   "metadata": {},
   "outputs": [
    {
     "name": "stdout",
     "output_type": "stream",
     "text": [
      "Accuracy = 0.8594594594594595\n"
     ]
    },
    {
     "data": {
      "image/png": "[encoded data removed]",
      "text/plain": [
       "<Figure size 640x480 with 1 Axes>"
      ]
     },
     "metadata": {},
     "output_type": "display_data"
    }
   ],
   "source": [
    "# Task5 compare the accuracy(or other metrics you want) of test data with different parameters you train with\n",
    "sum = 0\n",
    "count = 0\n",
    "for i in range(len(y_test)):\n",
    "    if y_test[i] == pred[i]:\n",
    "        count += 1\n",
    "    sum += 1\n",
    "print(\"Accuracy = {}\".format(count / sum))\n",
    "\n",
    "import pylab as pl\n",
    "pl.mpl.rcParams['font.sans-serif'] = ['SimHei']  \n",
    "\n",
    "x_axis_data = list(range(times + 1))[0:1500]\n",
    "y_axis_data = loss[0:1500]\n",
    "\n",
    "plt.plot(x_axis_data, y_axis_data, color='#4169E1', alpha=0.8, linewidth=1)\n",
    "plt.xlabel('Iteration times')\n",
    "plt.ylabel('Loss rate')\n",
    "\n",
    "plt.show()\n"
   ]
  }
 ],
 "metadata": {
  "kernelspec": {
   "display_name": "Python 3.10.4 64-bit",
   "language": "python",
   "name": "python3"
  },
  "language_info": {
   "codemirror_mode": {
    "name": "ipython",
    "version": 3
   },
   "file_extension": ".py",
   "mimetype": "text/x-python",
   "name": "python",
   "nbconvert_exporter": "python",
   "pygments_lexer": "ipython3",
   "version": "3.10.4"
  },
  "orig_nbformat": 4,
  "vscode": {
   "interpreter": {
    "hash": "2469a70536e4d2335a2ea8907942d0699c37342a371ac185bdb5b0aa6f073890"
   }
  }
 },
 "nbformat": 4,
 "nbformat_minor": 2
}
