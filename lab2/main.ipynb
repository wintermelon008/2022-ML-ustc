{
 "cells": [
  {
   "cell_type": "code",
   "execution_count": 138,
   "metadata": {},
   "outputs": [],
   "source": [
    "import numpy as np"
   ]
  },
  {
   "cell_type": "markdown",
   "metadata": {},
   "source": [
    "# generate data"
   ]
  },
  {
   "cell_type": "code",
   "execution_count": 139,
   "metadata": {},
   "outputs": [],
   "source": [
    "# In real world, you cannot learn how the data was generated. So do not rely on this function when coding your lab.\n",
    "\n",
    "# In order to make the DEBUG more easy, I add the random seed for option \n",
    "def generate_data(dim = 10, num = 100, random_seed = -1):\n",
    "    if random_seed != -1:\n",
    "        np.random.seed(random_seed)\n",
    "    x = np.random.normal(0, 10, [num, dim])\n",
    "\n",
    "    if random_seed != -1:\n",
    "        np.random.seed(random_seed)\n",
    "    coef = np.random.uniform(-1, 1, [dim, 1])\n",
    "\n",
    "    pred = np.dot(x, coef)\n",
    "    pred_n = (pred - np.mean(pred)) / np.sqrt(np.var(pred))\n",
    "    label = np.sign(pred_n)\n",
    "\n",
    "    if random_seed != -1:\n",
    "        np.random.seed(random_seed)\n",
    "    mislabel_value = np.random.uniform(0, 1, num)\n",
    "    mislabel = 0\n",
    "\n",
    "    for i in range(num):\n",
    "        if np.abs(pred_n[i]) < 1 and mislabel_value[i] > 0.9 + 0.1 * np.abs(pred_n[i]):\n",
    "            label[i] *= -1\n",
    "            mislabel += 1\n",
    "    return x, label, mislabel/num"
   ]
  },
  {
   "cell_type": "code",
   "execution_count": 140,
   "metadata": {},
   "outputs": [
    {
     "name": "stdout",
     "output_type": "stream",
     "text": [
      "[[ -7.52893478 -12.48311292  14.38112475   3.50241744  14.50216596]\n",
      " [ -4.74684664   6.40097095   5.04939938  -7.83526077  18.21878526]\n",
      " [ -8.39253406   9.49908244 -12.03386559   8.89105281  23.8697796 ]\n",
      " [  5.00142249   0.362758    -6.71770413 -14.3518933  -15.05313704]\n",
      " [  1.95691765  23.58808534  13.19229126  11.80020193  -4.63422303]\n",
      " [  4.96333707   4.33599903 -12.13573548  14.09264464  -4.00587278]\n",
      " [  3.08256896  23.40638943  13.49571548 -11.88832125  -2.29439311]\n",
      " [ 19.77873081 -12.93599172 -16.43250812   4.2009568   -2.26184068]\n",
      " [ 11.69043527  12.88329202   7.62140217  -1.09441335  -0.33970472]]\n",
      "[[ 1.]\n",
      " [-1.]\n",
      " [-1.]\n",
      " [-1.]\n",
      " [-1.]\n",
      " [-1.]\n",
      " [-1.]\n",
      " [-1.]\n",
      " [-1.]]\n",
      "0.03\n",
      "<class 'numpy.ndarray'>\n"
     ]
    }
   ],
   "source": [
    "# example\n",
    "x, y, mr = generate_data(5, 100)\n",
    "print(x[1:10])\n",
    "print(y[1:10])\n",
    "print(mr)\n",
    "print(type(x))"
   ]
  },
  {
   "cell_type": "markdown",
   "metadata": {},
   "source": [
    "# write your model class"
   ]
  },
  {
   "cell_type": "code",
   "execution_count": 141,
   "metadata": {},
   "outputs": [],
   "source": [
    "# you can do anything necessary about the model\n",
    "class SVM1:\n",
    "    def __init__(self, dim):\n",
    "        \"\"\"\n",
    "        You can add some other parameters, which I think is not necessary\n",
    "        \"\"\"\n",
    "        self.dim = dim\n",
    "\n",
    "    def fit(self, X:np.ndarray, y:np.ndarray):\n",
    "        \"\"\"\n",
    "        Fit the coefficients via your methods\n",
    "        \"\"\"\n",
    "        \n",
    "    def predict(self, X:np.ndarray):\n",
    "        \"\"\"\n",
    "        Use the trained model to generate prediction probabilities on a new\n",
    "        collection of data points.\n",
    "        \"\"\""
   ]
  },
  {
   "cell_type": "code",
   "execution_count": 142,
   "metadata": {},
   "outputs": [],
   "source": [
    "# you can do anything necessary about the model\n",
    "class SVM2:\n",
    "    def __init__(self, dim):\n",
    "        \"\"\"\n",
    "        You can add some other parameters, which I think is not necessary\n",
    "        \"\"\"\n",
    "\n",
    "    def fit(self, X:np.ndarray, y:np.ndarray):\n",
    "        \"\"\"\n",
    "        Fit the coefficients via your methods\n",
    "        \"\"\"\n",
    "        \n",
    "    def predict(self, X:np.ndarray):\n",
    "        \"\"\"\n",
    "        Use the trained model to generate prediction probabilities on a new\n",
    "        collection of data points.\n",
    "        \"\"\""
   ]
  },
  {
   "cell_type": "markdown",
   "metadata": {},
   "source": [
    "# construct and train your models"
   ]
  },
  {
   "cell_type": "code",
   "execution_count": 143,
   "metadata": {},
   "outputs": [],
   "source": [
    "# generate data\n",
    "X_data, y_data, mislabel = generate_data(dim=2, num=6) \n",
    "\n",
    "# split data\n",
    "def random_Split_data(X: np.ndarray, y:np.ndarray, rate = 0.75, random_seed: int = -1):\n",
    "    data: np.ndarray = np.hstack((X, y))\n",
    "    m, n = data.shape\n",
    "    if random_seed != -1:\n",
    "        np.random.seed(abs(random_seed))\n",
    "    np.random.shuffle(data)\n",
    "    \n",
    "    row_split = int(m * rate)\n",
    "    X_train = data[0: row_split, 0: n - 1]\n",
    "    y_train = data[0: row_split, n - 1: ]\n",
    "    X_test = data[row_split: m, 0: n - 1]\n",
    "    y_test = data[row_split: m, n - 1: ]\n",
    "    \n",
    "    return X_train, y_train, X_test, y_test\n",
    "\n",
    "\n",
    "X_train, y_train, X_test, y_test = random_Split_data(X_data, y_data, rate=0.7)\n",
    "\n",
    "\n",
    "# constrcut model and train (remember record time)\n",
    "# model1 = SVM1() \n",
    "# model1.fit()\n"
   ]
  },
  {
   "cell_type": "markdown",
   "metadata": {},
   "source": [
    "# predict and compare your results"
   ]
  },
  {
   "cell_type": "code",
   "execution_count": 144,
   "metadata": {},
   "outputs": [],
   "source": [
    "# make prediction\n",
    "\n",
    "def model_cmp(y_pre:np.ndarray, y_test:np.ndarray):\n",
    "    # y should be in shape m x 1\n",
    "    corr = 0\n",
    "    sum = 0\n",
    "    m, n = y_pre.shape\n",
    "    \n",
    "    for i in range(m):\n",
    "        if y_pre[i][0] == y_test[i][0]:\n",
    "            corr += 1\n",
    "        sum += 1\n",
    "    return corr/sum\n",
    "\n",
    "# pred = model1.predict()\n",
    "\n",
    "# compared with answer\n",
    "\n",
    "# compare each methods"
   ]
  },
  {
   "cell_type": "code",
   "execution_count": 145,
   "metadata": {},
   "outputs": [
    {
     "ename": "AttributeError",
     "evalue": "'NoneType' object has no attribute 'shape'",
     "output_type": "error",
     "traceback": [
      "\u001b[1;31m---------------------------------------------------------------------------\u001b[0m",
      "\u001b[1;31mAttributeError\u001b[0m                            Traceback (most recent call last)",
      "Cell \u001b[1;32mIn [145], line 35\u001b[0m\n\u001b[0;32m     30\u001b[0m             \u001b[39msum\u001b[39m \u001b[39m+\u001b[39m\u001b[39m=\u001b[39m model_cmp(pred, y_test)\n\u001b[0;32m     33\u001b[0m     \u001b[39mreturn\u001b[39;00m \u001b[39msum\u001b[39m\u001b[39m/\u001b[39mtotal_time\n\u001b[1;32m---> 35\u001b[0m \u001b[39mprint\u001b[39m(model_accuracy_ave())\n",
      "Cell \u001b[1;32mIn [145], line 19\u001b[0m, in \u001b[0;36mmodel_accuracy_ave\u001b[1;34m(model, dim, num, devide_rate, total_time)\u001b[0m\n\u001b[0;32m     16\u001b[0m         model\u001b[39m.\u001b[39mfit(X_train, y_train)\n\u001b[0;32m     17\u001b[0m         pred \u001b[39m=\u001b[39m model\u001b[39m.\u001b[39mpredict(X_test)\n\u001b[1;32m---> 19\u001b[0m         \u001b[39msum\u001b[39m \u001b[39m+\u001b[39m\u001b[39m=\u001b[39m model_cmp(pred, y_test)\n\u001b[0;32m     21\u001b[0m \u001b[39melif\u001b[39;00m model \u001b[39m==\u001b[39m \u001b[39m'\u001b[39m\u001b[39m2\u001b[39m\u001b[39m'\u001b[39m:\n\u001b[0;32m     22\u001b[0m     \u001b[39mfor\u001b[39;00m i \u001b[39min\u001b[39;00m \u001b[39mrange\u001b[39m(total_time):\n",
      "Cell \u001b[1;32mIn [144], line 7\u001b[0m, in \u001b[0;36mmodel_cmp\u001b[1;34m(y_pre, y_test)\u001b[0m\n\u001b[0;32m      5\u001b[0m corr \u001b[39m=\u001b[39m \u001b[39m0\u001b[39m\n\u001b[0;32m      6\u001b[0m \u001b[39msum\u001b[39m \u001b[39m=\u001b[39m \u001b[39m0\u001b[39m\n\u001b[1;32m----> 7\u001b[0m m, n \u001b[39m=\u001b[39m y_pre\u001b[39m.\u001b[39;49mshape\n\u001b[0;32m      9\u001b[0m \u001b[39mfor\u001b[39;00m i \u001b[39min\u001b[39;00m \u001b[39mrange\u001b[39m(m):\n\u001b[0;32m     10\u001b[0m     \u001b[39mif\u001b[39;00m y_pre[i][\u001b[39m0\u001b[39m] \u001b[39m==\u001b[39m y_test[i][\u001b[39m0\u001b[39m]:\n",
      "\u001b[1;31mAttributeError\u001b[0m: 'NoneType' object has no attribute 'shape'"
     ]
    }
   ],
   "source": [
    "# Calculate the model accuracy on average\n",
    "\n",
    "def model_accuracy_ave(model:str = '1', dim = 10, num = 100, devide_rate = 0.7, total_time = 100):   # all possible parameters\n",
    "\n",
    "    model_list = ['1', '2']\n",
    "    assert model in model_list, \"unknown model: {}\".format(model)\n",
    "\n",
    "    sum = 0\n",
    "\n",
    "    if model == '1':\n",
    "        for i in range(total_time):\n",
    "            X_data, y_data, mislabel = generate_data(dim, num) \n",
    "            X_train, y_train, X_test, y_test = random_Split_data(X_data, y_data, devide_rate)\n",
    "\n",
    "            model = SVM1(dim) \n",
    "            model.fit(X_train, y_train)\n",
    "            pred = model.predict(X_test)\n",
    "\n",
    "            sum += model_cmp(pred, y_test)\n",
    "\n",
    "    elif model == '2':\n",
    "        for i in range(total_time):\n",
    "            X_data, y_data, mislabel = generate_data(dim, num) \n",
    "            X_train, y_train, X_test, y_test = random_Split_data(X_data, y_data, devide_rate)\n",
    "\n",
    "            model = SVM2(dim) \n",
    "            model.fit(X_train, y_train)\n",
    "            pred = model.predict(X_test)\n",
    "\n",
    "            sum += model_cmp(pred, y_test)\n",
    "\n",
    "\n",
    "    return sum/total_time\n",
    "\n",
    "print(model_accuracy_ave())"
   ]
  }
 ],
 "metadata": {
  "kernelspec": {
   "display_name": "Python 3.10.4 64-bit",
   "language": "python",
   "name": "python3"
  },
  "language_info": {
   "codemirror_mode": {
    "name": "ipython",
    "version": 3
   },
   "file_extension": ".py",
   "mimetype": "text/x-python",
   "name": "python",
   "nbconvert_exporter": "python",
   "pygments_lexer": "ipython3",
   "version": "3.10.4"
  },
  "toc": {
   "base_numbering": 1,
   "nav_menu": {},
   "number_sections": true,
   "sideBar": true,
   "skip_h1_title": false,
   "title_cell": "Table of Contents",
   "title_sidebar": "Contents",
   "toc_cell": false,
   "toc_position": {},
   "toc_section_display": true,
   "toc_window_display": false
  },
  "vscode": {
   "interpreter": {
    "hash": "2469a70536e4d2335a2ea8907942d0699c37342a371ac185bdb5b0aa6f073890"
   }
  }
 },
 "nbformat": 4,
 "nbformat_minor": 4
}
