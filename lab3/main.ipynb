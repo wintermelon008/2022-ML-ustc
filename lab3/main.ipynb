{
 "cells": [
  {
   "cell_type": "code",
   "execution_count": 154,
   "metadata": {},
   "outputs": [],
   "source": [
    "import pandas as pd\n",
    "import numpy as np\n",
    "import matplotlib.pyplot as plt"
   ]
  },
  {
   "cell_type": "markdown",
   "metadata": {},
   "source": [
    "## Useful functions"
   ]
  },
  {
   "cell_type": "code",
   "execution_count": null,
   "metadata": {},
   "outputs": [],
   "source": [
    "def random_Split_data(data: pd.DataFrame, rate = 0.75, random_seed: int = -1):\n",
    "    m, n = data.shape\n",
    "    if random_seed != -1:\n",
    "        np.random.seed(abs(random_seed))\n",
    "    _data = data.reindex(np.random.permutation(data.index)).copy()\n",
    "\n",
    "    row_split = int(m * rate)\n",
    "    X_train = _data.iloc[0: row_split, 0: n - 1].values\n",
    "    y_train = _data.iloc[0: row_split, n - 1: ].values\n",
    "    X_test = _data.iloc[row_split: m, 0: n - 1].values\n",
    "    y_test = _data.iloc[row_split: m, n - 1: ].values\n",
    "    \n",
    "    return X_train, y_train, X_test, y_test\n",
    "\n",
    "\n",
    "def show(times, loss, color = '#4169E1', start=0, end=1500):\n",
    "    x_axis_data = list(range(times + 1))[start:end]\n",
    "    y_axis_data = loss[start:end]\n",
    "    plt.plot(x_axis_data, y_axis_data, color=color, alpha=0.8, linewidth=1)"
   ]
  },
  {
   "cell_type": "markdown",
   "metadata": {},
   "source": [
    "## Model: Regression tree"
   ]
  },
  {
   "cell_type": "code",
   "execution_count": null,
   "metadata": {},
   "outputs": [],
   "source": [
    "class RegTree(object):\n",
    "    def __init__(self, X:np.ndarray, y:np.ndarray): # 初始化回归树\n",
    "        self.X = X\n",
    "        self.y = y\n",
    "\n",
    "    def _get_best_split(self,): # 获得最佳feature和split\n",
    "        pass\n",
    "    def _get_split_score(self,): # 获取某一划分的目标函数值  \n",
    "        pass\n",
    "    def _choose_split_point(self,): # 获取最佳的划分点\n",
    "        pass\n",
    "    def fit(self,):# 训练一棵回归树 \n",
    "        pass\n",
    "    def _predict(self,): # 预测一个样本 \n",
    "        pass\n",
    "    def predict(self,): # 预测多条样本\n",
    "        pass"
   ]
  },
  {
   "cell_type": "markdown",
   "metadata": {},
   "source": [
    "## Train and test"
   ]
  },
  {
   "cell_type": "code",
   "execution_count": null,
   "metadata": {},
   "outputs": [],
   "source": [
    "df = pd.read_csv('train.data.txt',header=None)\n",
    "X_train, y_train, X_test, y_test = random_Split_data(df, rate=0.7)\n"
   ]
  }
 ],
 "metadata": {
  "kernelspec": {
   "display_name": "Python 3.10.4 64-bit",
   "language": "python",
   "name": "python3"
  },
  "language_info": {
   "codemirror_mode": {
    "name": "ipython",
    "version": 3
   },
   "file_extension": ".py",
   "mimetype": "text/x-python",
   "name": "python",
   "nbconvert_exporter": "python",
   "pygments_lexer": "ipython3",
   "version": "3.10.4"
  },
  "orig_nbformat": 4,
  "vscode": {
   "interpreter": {
    "hash": "2469a70536e4d2335a2ea8907942d0699c37342a371ac185bdb5b0aa6f073890"
   }
  }
 },
 "nbformat": 4,
 "nbformat_minor": 2
}
